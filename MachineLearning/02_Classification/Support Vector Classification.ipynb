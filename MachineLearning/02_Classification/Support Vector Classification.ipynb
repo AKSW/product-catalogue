{
 "cells": [
  {
   "cell_type": "code",
   "execution_count": 186,
   "metadata": {},
   "outputs": [],
   "source": [
    "import json\n",
    "import pandas as pd\n",
    "import re\n",
    "import numpy as np\n",
    "import nltk\n",
    "from nltk.corpus import stopwords\n",
    "from nltk.stem import SnowballStemmer\n",
    "from sklearn.feature_extraction.text import TfidfVectorizer\n",
    "from sklearn.pipeline import Pipeline\n",
    "from sklearn.model_selection import train_test_split, cross_validate\n",
    "from sklearn.model_selection import StratifiedKFold\n",
    "from sklearn.feature_selection import SelectKBest, chi2\n",
    "from sklearn.cluster import KMeans\n",
    "from sklearn.feature_extraction.text import TfidfTransformer, CountVectorizer\n",
    "from sklearn.feature_selection import mutual_info_classif, SelectPercentile\n",
    "from sklearn.svm import SVC\n",
    "import time"
   ]
  },
  {
   "cell_type": "code",
   "execution_count": 187,
   "metadata": {},
   "outputs": [],
   "source": [
    "#Load JSON Data\n",
    "json_data = None\n",
    "json_data = 'trainingdata_catnumbers.json'\n",
    "data = pd.read_json(json_data, orient='records')"
   ]
  },
  {
   "cell_type": "code",
   "execution_count": 188,
   "metadata": {},
   "outputs": [],
   "source": [
    "##Convert Category Column to int\n",
    "data['category'] = data['category'].astype('int')"
   ]
  },
  {
   "cell_type": "code",
   "execution_count": 189,
   "metadata": {},
   "outputs": [
    {
     "name": "stdout",
     "output_type": "stream",
     "text": [
      "Shape with duplicates:  (1318, 31)\n",
      "Shape without duplicates:  (1310, 31)\n"
     ]
    }
   ],
   "source": [
    "#check for duplicates and delete\n",
    "print('Shape with duplicates: ', data.shape)\n",
    "data.drop_duplicates(subset=['uniq_id'], inplace=True)\n",
    "print('Shape without duplicates: ', data.shape)"
   ]
  },
  {
   "cell_type": "code",
   "execution_count": 190,
   "metadata": {},
   "outputs": [],
   "source": [
    "#store id of labeled data \n",
    "labeled_ids = data.uniq_id.values"
   ]
  },
  {
   "cell_type": "markdown",
   "metadata": {},
   "source": [
    "### First Preprocessing"
   ]
  },
  {
   "cell_type": "code",
   "execution_count": 191,
   "metadata": {},
   "outputs": [
    {
     "name": "stderr",
     "output_type": "stream",
     "text": [
      "[nltk_data] Downloading package stopwords to\n",
      "[nltk_data]     /Users/hannah/nltk_data...\n",
      "[nltk_data]   Package stopwords is already up-to-date!\n"
     ]
    }
   ],
   "source": [
    "#add stemmer: maps different forms of the same word to a common “stem” \n",
    "stemmer = SnowballStemmer('english')\n",
    "\n",
    "#add stopwords: to remove irrelevant words from text\n",
    "nltk.download(\"stopwords\")\n",
    "\n",
    "#add english stopwords\n",
    "words = stopwords.words(\"english\")\n",
    "\n",
    "#apply stemmer and remove stopwords\n",
    "data['cleaned'] = data['product_name'].apply(lambda x: \" \".join([stemmer.stem(i) for i in re.sub(\"[^a-zA-Z]\", \" \", x).split() if i not in words]).lower())\n"
   ]
  },
  {
   "cell_type": "code",
   "execution_count": 192,
   "metadata": {},
   "outputs": [],
   "source": [
    "#assign data and labels\n",
    "X = data['cleaned'] #data\n",
    "y = data.category #labels\n",
    "\n",
    "\n",
    "#split data into train and test data (80/20-Split) including the cleaned product names column (x) and the category column (y)\n",
    "X_train, X_test, y_train, y_test = train_test_split(X, y, test_size=0.2, random_state=0)"
   ]
  },
  {
   "cell_type": "code",
   "execution_count": 193,
   "metadata": {},
   "outputs": [],
   "source": [
    "#stratified cross-validation 5-fold (results in 20% Test- and 80% Trainingdata)\n",
    "skf = StratifiedKFold(n_splits=5, shuffle=True, random_state=0)"
   ]
  },
  {
   "cell_type": "markdown",
   "metadata": {},
   "source": [
    "### Fit Model"
   ]
  },
  {
   "cell_type": "code",
   "execution_count": 195,
   "metadata": {},
   "outputs": [],
   "source": [
    "#add a pipeline to build the model: contains a list of transforms \n",
    "\n",
    "#CountVectorizer: Converts a collection of text to a matrix of token counts \n",
    "#TfidfTransformer: gives every word a weight depending of their frequency\n",
    "#SelectPercentile: Selects defined percentile of best fitting features by using chi2-Test\n",
    "#SVC: Applies Support Vector Classification\n",
    "\n",
    "\n",
    "\n",
    "pipeline = Pipeline([('vect', CountVectorizer(ngram_range=(1, 2))),\n",
    "                     ('tfid', TfidfTransformer()),\n",
    "                     ('chi',  SelectPercentile(chi2, percentile=50)),\n",
    "                     ('clf', SVC(C=1.0, max_iter=1000, random_state=0))])"
   ]
  },
  {
   "cell_type": "code",
   "execution_count": 196,
   "metadata": {},
   "outputs": [],
   "source": [
    "y_train = y_train.astype('int') #make sure all data hat datatype int\n",
    "\n",
    "#stop time for training:\n",
    "start_training_time = time.time()\n",
    "\n",
    "#fit model with 80/20 split:\n",
    "model = pipeline.fit(X_train, y_train)\n",
    "\n",
    "#stop time:\n",
    "total_training_time = (time.time() - start_training_time)\n"
   ]
  },
  {
   "cell_type": "code",
   "execution_count": 197,
   "metadata": {},
   "outputs": [
    {
     "name": "stdout",
     "output_type": "stream",
     "text": [
      "accuracy score 80/20 split: 0.8549618320610687\n",
      "accuracy cross-val per fold:  [0.84351145 0.87022901 0.88549618 0.8740458  0.85114504]\n",
      "accuracy cross-val mean:  0.8648854961832061\n"
     ]
    }
   ],
   "source": [
    "print(\"accuracy score 80/20 split: \" + str(model.score(X_test, y_test)))\n",
    "\n",
    "#get crossvalidation scores:\n",
    "scoring = ['accuracy']\n",
    "cv_results = cross_validate(pipeline, X, y, scoring=scoring, cv=skf)\n",
    "\n",
    "\n",
    "#print crossvalidation scores:\n",
    "print(\"accuracy cross-val per fold: \", cv_results['test_accuracy'])\n",
    "print(\"accuracy cross-val mean: \", np.mean(cv_results['test_accuracy']))"
   ]
  },
  {
   "cell_type": "code",
   "execution_count": 198,
   "metadata": {},
   "outputs": [
    {
     "name": "stdout",
     "output_type": "stream",
     "text": [
      "runtime for training in seconds:  0.4547598361968994\n",
      "runtime for training in seconds mean:  0.5098120212554932\n"
     ]
    }
   ],
   "source": [
    "#runtime for 80/20 split training: \n",
    "print(\"runtime for training in seconds: \", total_training_time)\n",
    "\n",
    "#get runtime of cross-validation:\n",
    "print(\"runtime for training in seconds mean: \", np.mean(cv_results['fit_time']))"
   ]
  },
  {
   "cell_type": "markdown",
   "metadata": {},
   "source": [
    "### Overview categories and their corresponding numbers"
   ]
  },
  {
   "cell_type": "code",
   "execution_count": 199,
   "metadata": {},
   "outputs": [],
   "source": [
    "# Electronic Accessories\" -> 1\n",
    "# Electronic Accessories | Smartphone Accessories -> 11\n",
    "# Electronic Accessories | Smartphone Accessories | Mobile Covers -> 111\n",
    "# Electronic Accessories | Smartphone Accessories | Mobile Covers | Flip Covers -> 1111\n",
    "# Electronic Accessories | Smartphone Accessories | Mobile Covers | Covers with Stand -> 1112\n",
    "# Electronic Accessories | Headphones -> 12\n",
    "# Electronic Accessories | Headphones | Headphone Accessories -> 121\n",
    "# Electronic Accessories | Tablet Accessories -> 13\n",
    "# Electronic Accessories | Chargers and Adapters -> 14\n",
    "# Electronic Accessories | Batteries -> 15\n",
    "# Electronic Accessories | Batteries | Camera Batteries -> 151\n",
    "# Electronic Accessories | Cables -> 16\n",
    "# Electronic Accessories | Cables | HDMI Cables -> 161\n",
    "# Electronic Accessories | Screen Protectors -> 17\n",
    "# Electronic Accessories | Camera Accessories -> 18\n",
    "# Electronic Accessories | Camera Accessories | Camera Filters and Lenses -> 181\n",
    "# Electronic Accessories | Laptop Accessories -> 19\n",
    "# Electronic Accessories | Laptop Accessories | Laptop Bags and Backpacks -> 191\n",
    "# Electronic Accessories | Laptop Accessories | Laptop Sleeves -> 192\n",
    "# Electronic Accessories | Memory Cards -> 2\n",
    "# Electronic Accessories | Keyboards -> 3\n",
    "# Electronic Accessories | Keyboards | Keyboard Accessories -> 31\n",
    "# Electronic Accessories | Mice -> 4\n",
    "# Electronic Accessories | Mice | Mouse Pads -> 41\n",
    "# Electronic Accessories | TV Accessories -> 5\n",
    "# Electronic Accessories | Power Supplies -> 6"
   ]
  },
  {
   "cell_type": "markdown",
   "metadata": {},
   "source": [
    "### prediction results for 80/20 simple split"
   ]
  },
  {
   "cell_type": "code",
   "execution_count": 200,
   "metadata": {},
   "outputs": [
    {
     "name": "stdout",
     "output_type": "stream",
     "text": [
      "[41]\n"
     ]
    }
   ],
   "source": [
    "print(model.predict(['Peace Hand - Gel Wrist Rest Support Mouse Pad - Non-slip - Anti-skid - for Computer - PC - Laptop Black']))\n",
    "#should be 41 (Electronic Accessories | Mice | Mouse Pads)"
   ]
  },
  {
   "cell_type": "code",
   "execution_count": 201,
   "metadata": {},
   "outputs": [
    {
     "name": "stdout",
     "output_type": "stream",
     "text": [
      "[111]\n"
     ]
    }
   ],
   "source": [
    "print(model.predict(['Aarfa Slimfit Durable Printed Hard Case for Xiaomi Redmi 4 (4X)']))\n",
    "#should be 111 (Electronic Accessories | Smartphone Accessories | Mobile Covers)"
   ]
  },
  {
   "cell_type": "code",
   "execution_count": 202,
   "metadata": {},
   "outputs": [
    {
     "name": "stdout",
     "output_type": "stream",
     "text": [
      "[161]\n"
     ]
    }
   ],
   "source": [
    "print(model.predict(['C&E CNE622576 (60 Feet/18.2 Meters) High Speed HDMI Cable Male to Male with Ethernet and Audio Return (Black)']))\n",
    "#should be 161 (Electronic Accessories | Cables | HDMI Cables)"
   ]
  },
  {
   "cell_type": "code",
   "execution_count": 203,
   "metadata": {},
   "outputs": [
    {
     "name": "stdout",
     "output_type": "stream",
     "text": [
      "[19]\n"
     ]
    }
   ],
   "source": [
    "print(model.predict(['Saco Transparent Laptop Touchpad Protector for All Laptops (Clear, 158x98 mm)']))\n",
    "#should be 19 (Electronic Accessories | Laptop Accessories)"
   ]
  },
  {
   "cell_type": "code",
   "execution_count": 204,
   "metadata": {},
   "outputs": [
    {
     "name": "stdout",
     "output_type": "stream",
     "text": [
      "[1]\n"
     ]
    }
   ],
   "source": [
    "print(model.predict(['Verbatim Bravo Wired Notebook Optical Mouse, Black (98106)']))\n",
    "#should be 4 (Electronic Accessories | Mice)"
   ]
  },
  {
   "cell_type": "code",
   "execution_count": 205,
   "metadata": {},
   "outputs": [
    {
     "name": "stdout",
     "output_type": "stream",
     "text": [
      "[1111]\n"
     ]
    }
   ],
   "source": [
    "print(model.predict(['FOSO F36 PU Leather Magnetic Flip Cover Wallet Back Cover for Honor View 20 (Brown)']))\n",
    "#should be 1111 (Electronic Accessories | Smartphone Accessories | Mobile Covers | Flip Covers)"
   ]
  },
  {
   "cell_type": "markdown",
   "metadata": {},
   "source": [
    "### Fit model on all labeled data"
   ]
  },
  {
   "cell_type": "code",
   "execution_count": 206,
   "metadata": {},
   "outputs": [
    {
     "name": "stdout",
     "output_type": "stream",
     "text": [
      "runtime for training in seconds:  0.6360390186309814\n"
     ]
    }
   ],
   "source": [
    "#stop time for training:\n",
    "start_training_time = time.time()\n",
    "\n",
    "#fit model with data and labels:\n",
    "model = pipeline.fit(X, y)\n",
    "\n",
    "#stop time:\n",
    "total_training_time = (time.time() - start_training_time)\n",
    "\n",
    "#runtime for training: \n",
    "print(\"runtime for training in seconds: \", total_training_time)\n"
   ]
  },
  {
   "cell_type": "markdown",
   "metadata": {},
   "source": [
    "### Load unlabeled dataset "
   ]
  },
  {
   "cell_type": "code",
   "execution_count": 207,
   "metadata": {},
   "outputs": [],
   "source": [
    "#load json dataset \n",
    "json_file = 'Amazon_Electronics_2_cleaned.json'\n",
    "\n",
    "#convert json string to pandas object and save it to data\n",
    "data = pd.read_json(json_file, orient='records')"
   ]
  },
  {
   "cell_type": "code",
   "execution_count": 174,
   "metadata": {},
   "outputs": [
    {
     "name": "stdout",
     "output_type": "stream",
     "text": [
      "size of unlabeled data:  8690\n"
     ]
    }
   ],
   "source": [
    "#filter for unlabeled data: \n",
    "data_unlabeled = data[~data['uniq_id'].isin(labeled_ids)].copy(deep=True)\n",
    "\n",
    "print('size of unlabeled data: ', data_unlabeled.shape[0])"
   ]
  },
  {
   "cell_type": "code",
   "execution_count": 175,
   "metadata": {},
   "outputs": [
    {
     "data": {
      "text/html": [
       "<div>\n",
       "<style scoped>\n",
       "    .dataframe tbody tr th:only-of-type {\n",
       "        vertical-align: middle;\n",
       "    }\n",
       "\n",
       "    .dataframe tbody tr th {\n",
       "        vertical-align: top;\n",
       "    }\n",
       "\n",
       "    .dataframe thead th {\n",
       "        text-align: right;\n",
       "    }\n",
       "</style>\n",
       "<table border=\"1\" class=\"dataframe\">\n",
       "  <thead>\n",
       "    <tr style=\"text-align: right;\">\n",
       "      <th></th>\n",
       "      <th>product_name</th>\n",
       "    </tr>\n",
       "  </thead>\n",
       "  <tbody>\n",
       "    <tr>\n",
       "      <th>0</th>\n",
       "      <td>Cazcase Deer Pattern Smart Case Cover Flip Sta...</td>\n",
       "    </tr>\n",
       "    <tr>\n",
       "      <th>1</th>\n",
       "      <td>D-kandy for Gionee A1 Lite, Fashion Series Lea...</td>\n",
       "    </tr>\n",
       "    <tr>\n",
       "      <th>3</th>\n",
       "      <td>iPhone 6 Case, LUVVITT® ULTRA ARMOR iPhone 6 C...</td>\n",
       "    </tr>\n",
       "    <tr>\n",
       "      <th>4</th>\n",
       "      <td>Redgear MPR800 Soft Base Mousepad with 4 LED S...</td>\n",
       "    </tr>\n",
       "    <tr>\n",
       "      <th>6</th>\n",
       "      <td>Aimo Wireless IPH5PCLP002 Rubber Essentials Sl...</td>\n",
       "    </tr>\n",
       "  </tbody>\n",
       "</table>\n",
       "</div>"
      ],
      "text/plain": [
       "                                        product_name\n",
       "0  Cazcase Deer Pattern Smart Case Cover Flip Sta...\n",
       "1  D-kandy for Gionee A1 Lite, Fashion Series Lea...\n",
       "3  iPhone 6 Case, LUVVITT® ULTRA ARMOR iPhone 6 C...\n",
       "4  Redgear MPR800 Soft Base Mousepad with 4 LED S...\n",
       "6  Aimo Wireless IPH5PCLP002 Rubber Essentials Sl..."
      ]
     },
     "execution_count": 175,
     "metadata": {},
     "output_type": "execute_result"
    }
   ],
   "source": [
    "#select relevant column and copy it into product_names\n",
    "product_names = data_unlabeled[['product_name']].copy()\n",
    "\n",
    "#show data\n",
    "product_names.head()"
   ]
  },
  {
   "cell_type": "code",
   "execution_count": 176,
   "metadata": {},
   "outputs": [
    {
     "data": {
      "text/html": [
       "<div>\n",
       "<style scoped>\n",
       "    .dataframe tbody tr th:only-of-type {\n",
       "        vertical-align: middle;\n",
       "    }\n",
       "\n",
       "    .dataframe tbody tr th {\n",
       "        vertical-align: top;\n",
       "    }\n",
       "\n",
       "    .dataframe thead th {\n",
       "        text-align: right;\n",
       "    }\n",
       "</style>\n",
       "<table border=\"1\" class=\"dataframe\">\n",
       "  <thead>\n",
       "    <tr style=\"text-align: right;\">\n",
       "      <th></th>\n",
       "      <th>uniq_id</th>\n",
       "      <th>crawl_timestamp</th>\n",
       "      <th>asin</th>\n",
       "      <th>product_url</th>\n",
       "      <th>product_name</th>\n",
       "      <th>image_urls__small</th>\n",
       "      <th>medium</th>\n",
       "      <th>large</th>\n",
       "      <th>browsenode</th>\n",
       "      <th>seller_name</th>\n",
       "      <th>...</th>\n",
       "      <th>no__of_offers</th>\n",
       "      <th>no__of_sellers</th>\n",
       "      <th>sales_rank_in_child_category</th>\n",
       "      <th>product_details__k_v_pairs</th>\n",
       "      <th>Number_Of_Items</th>\n",
       "      <th>Batteries_Included</th>\n",
       "      <th>Batteries_Required</th>\n",
       "      <th>Material</th>\n",
       "      <th>Form_Factor</th>\n",
       "      <th>left_in_stock</th>\n",
       "    </tr>\n",
       "  </thead>\n",
       "  <tbody>\n",
       "    <tr>\n",
       "      <th>0</th>\n",
       "      <td>8258a459bf720ac86b8bc2d214346c35</td>\n",
       "      <td>2020-02-06 19:30:06 +0000</td>\n",
       "      <td>B07652FT69</td>\n",
       "      <td>https://www.amazon.in/Cazcase-Pattern-Smart-Co...</td>\n",
       "      <td>Cazcase Deer Pattern Smart Case Cover Flip Sta...</td>\n",
       "      <td>https://images-na.ssl-images-amazon.com/images...</td>\n",
       "      <td>https://images-na.ssl-images-amazon.com/images...</td>\n",
       "      <td>https://images-na.ssl-images-amazon.com/images...</td>\n",
       "      <td>1375329031</td>\n",
       "      <td>E Shop Solution</td>\n",
       "      <td>...</td>\n",
       "      <td>NaN</td>\n",
       "      <td>NaN</td>\n",
       "      <td>NaN</td>\n",
       "      <td>NaN</td>\n",
       "      <td>NaN</td>\n",
       "      <td>NaN</td>\n",
       "      <td>NaN</td>\n",
       "      <td>NaN</td>\n",
       "      <td>NaN</td>\n",
       "      <td>NaN</td>\n",
       "    </tr>\n",
       "    <tr>\n",
       "      <th>1</th>\n",
       "      <td>8610899e786315b1adad872764f424b0</td>\n",
       "      <td>2020-02-07 00:20:04 +0000</td>\n",
       "      <td>B07TMCY7WN</td>\n",
       "      <td>https://www.amazon.in/D-kandy-Gionee-A1-Lite-M...</td>\n",
       "      <td>D-kandy for Gionee A1 Lite, Fashion Series Lea...</td>\n",
       "      <td>https://images-na.ssl-images-amazon.com/images...</td>\n",
       "      <td>https://images-na.ssl-images-amazon.com/images...</td>\n",
       "      <td>NaN</td>\n",
       "      <td>1389409031</td>\n",
       "      <td>SHIV DURGA ENTERPRISES</td>\n",
       "      <td>...</td>\n",
       "      <td>NaN</td>\n",
       "      <td>NaN</td>\n",
       "      <td>NaN</td>\n",
       "      <td>NaN</td>\n",
       "      <td>NaN</td>\n",
       "      <td>NaN</td>\n",
       "      <td>NaN</td>\n",
       "      <td>NaN</td>\n",
       "      <td>NaN</td>\n",
       "      <td>NaN</td>\n",
       "    </tr>\n",
       "    <tr>\n",
       "      <th>3</th>\n",
       "      <td>c5499856b11d3a2796bdd362b1701fc1</td>\n",
       "      <td>2020-02-07 02:38:59 +0000</td>\n",
       "      <td>B00JYKGFWY</td>\n",
       "      <td>https://www.amazon.in/iPhone-LUVVITT%C2%AE-Scr...</td>\n",
       "      <td>iPhone 6 Case, LUVVITT® ULTRA ARMOR iPhone 6 C...</td>\n",
       "      <td>https://images-na.ssl-images-amazon.com/images...</td>\n",
       "      <td>https://images-na.ssl-images-amazon.com/images...</td>\n",
       "      <td>https://images-na.ssl-images-amazon.com/images...</td>\n",
       "      <td>1389409031</td>\n",
       "      <td>HelloYehlo</td>\n",
       "      <td>...</td>\n",
       "      <td>NaN</td>\n",
       "      <td>NaN</td>\n",
       "      <td>NaN</td>\n",
       "      <td>NaN</td>\n",
       "      <td>NaN</td>\n",
       "      <td>NaN</td>\n",
       "      <td>NaN</td>\n",
       "      <td>NaN</td>\n",
       "      <td>NaN</td>\n",
       "      <td>NaN</td>\n",
       "    </tr>\n",
       "    <tr>\n",
       "      <th>4</th>\n",
       "      <td>ce5ac9f85505667fb9dafce9c1b0103c</td>\n",
       "      <td>2020-02-07 13:30:48 +0000</td>\n",
       "      <td>B07LB5SGK7</td>\n",
       "      <td>https://www.amazon.in/Redgear-MPR800-Soft-Mous...</td>\n",
       "      <td>Redgear MPR800 Soft Base Mousepad with 4 LED S...</td>\n",
       "      <td>https://images-na.ssl-images-amazon.com/images...</td>\n",
       "      <td>https://images-na.ssl-images-amazon.com/images...</td>\n",
       "      <td>https://images-na.ssl-images-amazon.com/images...</td>\n",
       "      <td>1375413031</td>\n",
       "      <td>Appario Retail Private Ltd</td>\n",
       "      <td>...</td>\n",
       "      <td>NaN</td>\n",
       "      <td>NaN</td>\n",
       "      <td>NaN</td>\n",
       "      <td>NaN</td>\n",
       "      <td>NaN</td>\n",
       "      <td>NaN</td>\n",
       "      <td>NaN</td>\n",
       "      <td>NaN</td>\n",
       "      <td>NaN</td>\n",
       "      <td>NaN</td>\n",
       "    </tr>\n",
       "    <tr>\n",
       "      <th>6</th>\n",
       "      <td>7fff79ed7aacb6b010d870c293a6e0e4</td>\n",
       "      <td>2020-02-07 00:40:57 +0000</td>\n",
       "      <td>B009NSXDHW</td>\n",
       "      <td>https://www.amazon.in/Aimo-Wireless-IPH5PCLP00...</td>\n",
       "      <td>Aimo Wireless IPH5PCLP002 Rubber Essentials Sl...</td>\n",
       "      <td>https://images-na.ssl-images-amazon.com/images...</td>\n",
       "      <td>https://images-na.ssl-images-amazon.com/images...</td>\n",
       "      <td>https://images-na.ssl-images-amazon.com/images...</td>\n",
       "      <td>1389409031</td>\n",
       "      <td>NaN</td>\n",
       "      <td>...</td>\n",
       "      <td>NaN</td>\n",
       "      <td>NaN</td>\n",
       "      <td>NaN</td>\n",
       "      <td>NaN</td>\n",
       "      <td>NaN</td>\n",
       "      <td>NaN</td>\n",
       "      <td>NaN</td>\n",
       "      <td>NaN</td>\n",
       "      <td>NaN</td>\n",
       "      <td>NaN</td>\n",
       "    </tr>\n",
       "  </tbody>\n",
       "</table>\n",
       "<p>5 rows × 36 columns</p>\n",
       "</div>"
      ],
      "text/plain": [
       "                            uniq_id            crawl_timestamp        asin  \\\n",
       "0  8258a459bf720ac86b8bc2d214346c35  2020-02-06 19:30:06 +0000  B07652FT69   \n",
       "1  8610899e786315b1adad872764f424b0  2020-02-07 00:20:04 +0000  B07TMCY7WN   \n",
       "3  c5499856b11d3a2796bdd362b1701fc1  2020-02-07 02:38:59 +0000  B00JYKGFWY   \n",
       "4  ce5ac9f85505667fb9dafce9c1b0103c  2020-02-07 13:30:48 +0000  B07LB5SGK7   \n",
       "6  7fff79ed7aacb6b010d870c293a6e0e4  2020-02-07 00:40:57 +0000  B009NSXDHW   \n",
       "\n",
       "                                         product_url  \\\n",
       "0  https://www.amazon.in/Cazcase-Pattern-Smart-Co...   \n",
       "1  https://www.amazon.in/D-kandy-Gionee-A1-Lite-M...   \n",
       "3  https://www.amazon.in/iPhone-LUVVITT%C2%AE-Scr...   \n",
       "4  https://www.amazon.in/Redgear-MPR800-Soft-Mous...   \n",
       "6  https://www.amazon.in/Aimo-Wireless-IPH5PCLP00...   \n",
       "\n",
       "                                        product_name  \\\n",
       "0  Cazcase Deer Pattern Smart Case Cover Flip Sta...   \n",
       "1  D-kandy for Gionee A1 Lite, Fashion Series Lea...   \n",
       "3  iPhone 6 Case, LUVVITT® ULTRA ARMOR iPhone 6 C...   \n",
       "4  Redgear MPR800 Soft Base Mousepad with 4 LED S...   \n",
       "6  Aimo Wireless IPH5PCLP002 Rubber Essentials Sl...   \n",
       "\n",
       "                                   image_urls__small  \\\n",
       "0  https://images-na.ssl-images-amazon.com/images...   \n",
       "1  https://images-na.ssl-images-amazon.com/images...   \n",
       "3  https://images-na.ssl-images-amazon.com/images...   \n",
       "4  https://images-na.ssl-images-amazon.com/images...   \n",
       "6  https://images-na.ssl-images-amazon.com/images...   \n",
       "\n",
       "                                              medium  \\\n",
       "0  https://images-na.ssl-images-amazon.com/images...   \n",
       "1  https://images-na.ssl-images-amazon.com/images...   \n",
       "3  https://images-na.ssl-images-amazon.com/images...   \n",
       "4  https://images-na.ssl-images-amazon.com/images...   \n",
       "6  https://images-na.ssl-images-amazon.com/images...   \n",
       "\n",
       "                                               large  browsenode  \\\n",
       "0  https://images-na.ssl-images-amazon.com/images...  1375329031   \n",
       "1                                                NaN  1389409031   \n",
       "3  https://images-na.ssl-images-amazon.com/images...  1389409031   \n",
       "4  https://images-na.ssl-images-amazon.com/images...  1375413031   \n",
       "6  https://images-na.ssl-images-amazon.com/images...  1389409031   \n",
       "\n",
       "                  seller_name  ... no__of_offers no__of_sellers  \\\n",
       "0             E Shop Solution  ...           NaN            NaN   \n",
       "1      SHIV DURGA ENTERPRISES  ...           NaN            NaN   \n",
       "3                  HelloYehlo  ...           NaN            NaN   \n",
       "4  Appario Retail Private Ltd  ...           NaN            NaN   \n",
       "6                         NaN  ...           NaN            NaN   \n",
       "\n",
       "   sales_rank_in_child_category product_details__k_v_pairs Number_Of_Items  \\\n",
       "0                           NaN                        NaN             NaN   \n",
       "1                           NaN                        NaN             NaN   \n",
       "3                           NaN                        NaN             NaN   \n",
       "4                           NaN                        NaN             NaN   \n",
       "6                           NaN                        NaN             NaN   \n",
       "\n",
       "   Batteries_Included Batteries_Required Material Form_Factor left_in_stock  \n",
       "0                 NaN                NaN      NaN         NaN           NaN  \n",
       "1                 NaN                NaN      NaN         NaN           NaN  \n",
       "3                 NaN                NaN      NaN         NaN           NaN  \n",
       "4                 NaN                NaN      NaN         NaN           NaN  \n",
       "6                 NaN                NaN      NaN         NaN           NaN  \n",
       "\n",
       "[5 rows x 36 columns]"
      ]
     },
     "execution_count": 176,
     "metadata": {},
     "output_type": "execute_result"
    }
   ],
   "source": [
    "#select relevant column and copy it into product_names\n",
    "product_names = data_unlabeled.copy()\n",
    "\n",
    "#show data\n",
    "product_names.head()"
   ]
  },
  {
   "cell_type": "code",
   "execution_count": 177,
   "metadata": {},
   "outputs": [
    {
     "data": {
      "text/plain": [
       "0    cazcas deer pattern smart case cover flip stan...\n",
       "1    d kandi gione a lite fashion seri leather flip...\n",
       "3    iphon case luvvitt ultra armor iphon case best...\n",
       "4     redgear mpr soft base mousepad led spectrum mode\n",
       "6    aimo wireless iph pclp rubber essenti slim dur...\n",
       "Name: cleaned, dtype: object"
      ]
     },
     "execution_count": 177,
     "metadata": {},
     "output_type": "execute_result"
    }
   ],
   "source": [
    "#preprocessing: apply stemming & lower case on each row of product_names. Save cleaned data in new column \"cleaned\"\n",
    "product_names['cleaned'] = product_names['product_name'].apply(lambda x: \" \".join([stemmer.stem(i) for i in re.sub(\"[^a-zA-Z]\", \" \", x).split() if i not in words]).lower())\n",
    "\n",
    "#show cleaned data\n",
    "product_names['cleaned'].head()"
   ]
  },
  {
   "cell_type": "markdown",
   "metadata": {},
   "source": [
    "### Prediction"
   ]
  },
  {
   "cell_type": "code",
   "execution_count": 178,
   "metadata": {},
   "outputs": [
    {
     "name": "stdout",
     "output_type": "stream",
     "text": [
      "runtime for prediction in seconds for 2.436814069747925 titles: 8690\n"
     ]
    }
   ],
   "source": [
    "#stop time for prediction:\n",
    "start_training_time = time.time()\n",
    "\n",
    "#predict categories and store the predictions in new column:\n",
    "data_unlabeled['category_label'] = model.predict(product_names['cleaned'])\n",
    "\n",
    "#stop time:\n",
    "total_training_time = (time.time() - start_training_time)\n",
    "\n",
    "#runtime for training: \n",
    "print(\"runtime for prediction in seconds for {} titles: {}\".format(total_training_time,len(predicted_labels)))"
   ]
  },
  {
   "cell_type": "code",
   "execution_count": 179,
   "metadata": {},
   "outputs": [],
   "source": [
    "#Load labeled Data\n",
    "json_data = None\n",
    "json_data = 'trainingdata_catnumbers.json'\n",
    "data_labeled = pd.read_json(json_data, orient='records')"
   ]
  },
  {
   "cell_type": "code",
   "execution_count": 180,
   "metadata": {},
   "outputs": [],
   "source": [
    "#rename column with labels (in preparation for concat step):\n",
    "data_labeled.rename(columns={'category':'category_label'}, inplace=True)"
   ]
  },
  {
   "cell_type": "code",
   "execution_count": 181,
   "metadata": {},
   "outputs": [],
   "source": [
    "#get all labels in single df:\n",
    "final_data = pd.concat([data_unlabeled,data_labeled],axis=0)"
   ]
  },
  {
   "cell_type": "code",
   "execution_count": 182,
   "metadata": {},
   "outputs": [
    {
     "data": {
      "text/html": [
       "<div>\n",
       "<style scoped>\n",
       "    .dataframe tbody tr th:only-of-type {\n",
       "        vertical-align: middle;\n",
       "    }\n",
       "\n",
       "    .dataframe tbody tr th {\n",
       "        vertical-align: top;\n",
       "    }\n",
       "\n",
       "    .dataframe thead th {\n",
       "        text-align: right;\n",
       "    }\n",
       "</style>\n",
       "<table border=\"1\" class=\"dataframe\">\n",
       "  <thead>\n",
       "    <tr style=\"text-align: right;\">\n",
       "      <th></th>\n",
       "      <th>uniq_id</th>\n",
       "      <th>crawl_timestamp</th>\n",
       "      <th>asin</th>\n",
       "      <th>product_url</th>\n",
       "      <th>product_name</th>\n",
       "      <th>image_urls__small</th>\n",
       "      <th>medium</th>\n",
       "      <th>large</th>\n",
       "      <th>browsenode</th>\n",
       "      <th>seller_name</th>\n",
       "      <th>...</th>\n",
       "      <th>no__of_sellers</th>\n",
       "      <th>sales_rank_in_child_category</th>\n",
       "      <th>product_details__k_v_pairs</th>\n",
       "      <th>Number_Of_Items</th>\n",
       "      <th>Batteries_Included</th>\n",
       "      <th>Batteries_Required</th>\n",
       "      <th>Material</th>\n",
       "      <th>Form_Factor</th>\n",
       "      <th>left_in_stock</th>\n",
       "      <th>category_label</th>\n",
       "    </tr>\n",
       "  </thead>\n",
       "  <tbody>\n",
       "    <tr>\n",
       "      <th>1313</th>\n",
       "      <td>e368d34f1661f7c9b61833bc17000bc7</td>\n",
       "      <td>2020-02-06 18:07:49 +0000</td>\n",
       "      <td>B01GIZ4DHG</td>\n",
       "      <td>https://www.amazon.in/Broadlink-Black-Smart-Re...</td>\n",
       "      <td>Broadlink 2018 New RM-Mini3 Black Bean Univers...</td>\n",
       "      <td>https://images-na.ssl-images-amazon.com/images...</td>\n",
       "      <td>https://images-na.ssl-images-amazon.com/images...</td>\n",
       "      <td>https://images-na.ssl-images-amazon.com/images...</td>\n",
       "      <td>1388929031</td>\n",
       "      <td>global tech store</td>\n",
       "      <td>...</td>\n",
       "      <td>NaN</td>\n",
       "      <td>NaN</td>\n",
       "      <td>NaN</td>\n",
       "      <td>NaN</td>\n",
       "      <td>NaN</td>\n",
       "      <td>NaN</td>\n",
       "      <td>NaN</td>\n",
       "      <td>NaN</td>\n",
       "      <td>NaN</td>\n",
       "      <td>1</td>\n",
       "    </tr>\n",
       "    <tr>\n",
       "      <th>1314</th>\n",
       "      <td>6009674ac5a780fd3229423cd8b0f121</td>\n",
       "      <td>2020-02-07 11:01:41 +0000</td>\n",
       "      <td>B07S7P8Z1D</td>\n",
       "      <td>https://www.amazon.in/Zebronics-Monster-X10-co...</td>\n",
       "      <td>Zebronics Zeb-Moving Monster X10 Trolly DJ Spe...</td>\n",
       "      <td>https://images-na.ssl-images-amazon.com/images...</td>\n",
       "      <td>https://images-na.ssl-images-amazon.com/images...</td>\n",
       "      <td>https://images-na.ssl-images-amazon.com/images...</td>\n",
       "      <td>1375442031</td>\n",
       "      <td>DRS TECH</td>\n",
       "      <td>...</td>\n",
       "      <td>NaN</td>\n",
       "      <td>NaN</td>\n",
       "      <td>NaN</td>\n",
       "      <td>NaN</td>\n",
       "      <td>NaN</td>\n",
       "      <td>NaN</td>\n",
       "      <td>NaN</td>\n",
       "      <td>NaN</td>\n",
       "      <td>NaN</td>\n",
       "      <td>1</td>\n",
       "    </tr>\n",
       "    <tr>\n",
       "      <th>1315</th>\n",
       "      <td>f906d33851ee356fdf48be84ae5c5b0e</td>\n",
       "      <td>2020-02-06 18:07:33 +0000</td>\n",
       "      <td>B072LVD67Q</td>\n",
       "      <td>https://www.amazon.in/AH59-02692E-Replaced-Sou...</td>\n",
       "      <td>VINABTY New AH59-02692E Replaced Remote fit fo...</td>\n",
       "      <td>https://images-na.ssl-images-amazon.com/images...</td>\n",
       "      <td>https://images-na.ssl-images-amazon.com/images...</td>\n",
       "      <td>https://images-na.ssl-images-amazon.com/images...</td>\n",
       "      <td>1388929031</td>\n",
       "      <td>NaN</td>\n",
       "      <td>...</td>\n",
       "      <td>NaN</td>\n",
       "      <td>{'AudioVideoRemoteControls': '#6287'}</td>\n",
       "      <td>{'Product_Dimensions': '14 x 5.1 x 2.5 cm', 'I...</td>\n",
       "      <td>NaN</td>\n",
       "      <td>NaN</td>\n",
       "      <td>NaN</td>\n",
       "      <td>NaN</td>\n",
       "      <td>NaN</td>\n",
       "      <td>NaN</td>\n",
       "      <td>1</td>\n",
       "    </tr>\n",
       "    <tr>\n",
       "      <th>1316</th>\n",
       "      <td>f153bb16e99e2e4ba834d10f0da73261</td>\n",
       "      <td>2020-02-06 19:08:44 +0000</td>\n",
       "      <td>B072JCXN11</td>\n",
       "      <td>https://www.amazon.in/Komshine-10-Locator-Conn...</td>\n",
       "      <td>Pen Type Red Light Source Komshine 1/10/20mw F...</td>\n",
       "      <td>https://images-na.ssl-images-amazon.com/images...</td>\n",
       "      <td>https://images-na.ssl-images-amazon.com/images...</td>\n",
       "      <td>https://images-na.ssl-images-amazon.com/images...</td>\n",
       "      <td>1388894031</td>\n",
       "      <td>NaN</td>\n",
       "      <td>...</td>\n",
       "      <td>NaN</td>\n",
       "      <td>NaN</td>\n",
       "      <td>{'Item_Weight': '200 g', 'Item_model_number': ...</td>\n",
       "      <td>NaN</td>\n",
       "      <td>NaN</td>\n",
       "      <td>NaN</td>\n",
       "      <td>NaN</td>\n",
       "      <td>NaN</td>\n",
       "      <td>NaN</td>\n",
       "      <td>1</td>\n",
       "    </tr>\n",
       "    <tr>\n",
       "      <th>1317</th>\n",
       "      <td>97a1c02f12be2425c86315b80c8509f6</td>\n",
       "      <td>2020-02-06 20:44:28 +0000</td>\n",
       "      <td>B07HHFK1FB</td>\n",
       "      <td>https://www.amazon.in/Amateur-Antenna-430mhz-M...</td>\n",
       "      <td>HYS Amateur Dual Band So239 17 Inch Antenna wi...</td>\n",
       "      <td>https://images-na.ssl-images-amazon.com/images...</td>\n",
       "      <td>https://images-na.ssl-images-amazon.com/images...</td>\n",
       "      <td>https://images-na.ssl-images-amazon.com/images...</td>\n",
       "      <td>1389228031</td>\n",
       "      <td>NaN</td>\n",
       "      <td>...</td>\n",
       "      <td>NaN</td>\n",
       "      <td>NaN</td>\n",
       "      <td>{'Item_model_number': 'TC-M40VU', 'ASIN': 'B07...</td>\n",
       "      <td>NaN</td>\n",
       "      <td>NaN</td>\n",
       "      <td>NaN</td>\n",
       "      <td>NaN</td>\n",
       "      <td>NaN</td>\n",
       "      <td>NaN</td>\n",
       "      <td>1</td>\n",
       "    </tr>\n",
       "  </tbody>\n",
       "</table>\n",
       "<p>5 rows × 37 columns</p>\n",
       "</div>"
      ],
      "text/plain": [
       "                               uniq_id            crawl_timestamp        asin  \\\n",
       "1313  e368d34f1661f7c9b61833bc17000bc7  2020-02-06 18:07:49 +0000  B01GIZ4DHG   \n",
       "1314  6009674ac5a780fd3229423cd8b0f121  2020-02-07 11:01:41 +0000  B07S7P8Z1D   \n",
       "1315  f906d33851ee356fdf48be84ae5c5b0e  2020-02-06 18:07:33 +0000  B072LVD67Q   \n",
       "1316  f153bb16e99e2e4ba834d10f0da73261  2020-02-06 19:08:44 +0000  B072JCXN11   \n",
       "1317  97a1c02f12be2425c86315b80c8509f6  2020-02-06 20:44:28 +0000  B07HHFK1FB   \n",
       "\n",
       "                                            product_url  \\\n",
       "1313  https://www.amazon.in/Broadlink-Black-Smart-Re...   \n",
       "1314  https://www.amazon.in/Zebronics-Monster-X10-co...   \n",
       "1315  https://www.amazon.in/AH59-02692E-Replaced-Sou...   \n",
       "1316  https://www.amazon.in/Komshine-10-Locator-Conn...   \n",
       "1317  https://www.amazon.in/Amateur-Antenna-430mhz-M...   \n",
       "\n",
       "                                           product_name  \\\n",
       "1313  Broadlink 2018 New RM-Mini3 Black Bean Univers...   \n",
       "1314  Zebronics Zeb-Moving Monster X10 Trolly DJ Spe...   \n",
       "1315  VINABTY New AH59-02692E Replaced Remote fit fo...   \n",
       "1316  Pen Type Red Light Source Komshine 1/10/20mw F...   \n",
       "1317  HYS Amateur Dual Band So239 17 Inch Antenna wi...   \n",
       "\n",
       "                                      image_urls__small  \\\n",
       "1313  https://images-na.ssl-images-amazon.com/images...   \n",
       "1314  https://images-na.ssl-images-amazon.com/images...   \n",
       "1315  https://images-na.ssl-images-amazon.com/images...   \n",
       "1316  https://images-na.ssl-images-amazon.com/images...   \n",
       "1317  https://images-na.ssl-images-amazon.com/images...   \n",
       "\n",
       "                                                 medium  \\\n",
       "1313  https://images-na.ssl-images-amazon.com/images...   \n",
       "1314  https://images-na.ssl-images-amazon.com/images...   \n",
       "1315  https://images-na.ssl-images-amazon.com/images...   \n",
       "1316  https://images-na.ssl-images-amazon.com/images...   \n",
       "1317  https://images-na.ssl-images-amazon.com/images...   \n",
       "\n",
       "                                                  large  browsenode  \\\n",
       "1313  https://images-na.ssl-images-amazon.com/images...  1388929031   \n",
       "1314  https://images-na.ssl-images-amazon.com/images...  1375442031   \n",
       "1315  https://images-na.ssl-images-amazon.com/images...  1388929031   \n",
       "1316  https://images-na.ssl-images-amazon.com/images...  1388894031   \n",
       "1317  https://images-na.ssl-images-amazon.com/images...  1389228031   \n",
       "\n",
       "            seller_name  ... no__of_sellers  \\\n",
       "1313  global tech store  ...            NaN   \n",
       "1314           DRS TECH  ...            NaN   \n",
       "1315                NaN  ...            NaN   \n",
       "1316                NaN  ...            NaN   \n",
       "1317                NaN  ...            NaN   \n",
       "\n",
       "               sales_rank_in_child_category  \\\n",
       "1313                                    NaN   \n",
       "1314                                    NaN   \n",
       "1315  {'AudioVideoRemoteControls': '#6287'}   \n",
       "1316                                    NaN   \n",
       "1317                                    NaN   \n",
       "\n",
       "                             product_details__k_v_pairs Number_Of_Items  \\\n",
       "1313                                                NaN             NaN   \n",
       "1314                                                NaN             NaN   \n",
       "1315  {'Product_Dimensions': '14 x 5.1 x 2.5 cm', 'I...             NaN   \n",
       "1316  {'Item_Weight': '200 g', 'Item_model_number': ...             NaN   \n",
       "1317  {'Item_model_number': 'TC-M40VU', 'ASIN': 'B07...             NaN   \n",
       "\n",
       "     Batteries_Included  Batteries_Required Material Form_Factor  \\\n",
       "1313                NaN                 NaN      NaN         NaN   \n",
       "1314                NaN                 NaN      NaN         NaN   \n",
       "1315                NaN                 NaN      NaN         NaN   \n",
       "1316                NaN                 NaN      NaN         NaN   \n",
       "1317                NaN                 NaN      NaN         NaN   \n",
       "\n",
       "     left_in_stock category_label  \n",
       "1313           NaN              1  \n",
       "1314           NaN              1  \n",
       "1315           NaN              1  \n",
       "1316           NaN              1  \n",
       "1317           NaN              1  \n",
       "\n",
       "[5 rows x 37 columns]"
      ]
     },
     "execution_count": 182,
     "metadata": {},
     "output_type": "execute_result"
    }
   ],
   "source": [
    "#see if data is added\n",
    "final_data.tail()"
   ]
  },
  {
   "cell_type": "code",
   "execution_count": 183,
   "metadata": {},
   "outputs": [],
   "source": [
    "#add new column category_name and insert category_label\n",
    "final_data['category_name'] = final_data['category_label']"
   ]
  },
  {
   "cell_type": "code",
   "execution_count": 184,
   "metadata": {},
   "outputs": [],
   "source": [
    "#replace category label by corresponding category name and insert into column category_name\n",
    "final_data['category_name'] = final_data['category_name'].replace( 1 , \"Electronic Accessories\")\n",
    "final_data['category_name'] = final_data['category_name'].replace( 11 , \"Electronic Accessories | Smartphone Accessories\") \n",
    "final_data['category_name'] = final_data['category_name'].replace( 111 , \"Electronic Accessories | Smartphone Accessories | Mobile Covers\") \n",
    "final_data['category_name'] = final_data['category_name'].replace( 1111 , \"Electronic Accessories | Smartphone Accessories | Mobile Covers | Flip Covers\") \n",
    "final_data['category_name'] = final_data['category_name'].replace( 1112 , \"Electronic Accessories | Smartphone Accessories | Mobile Covers | Covers with Stand\") \n",
    "final_data['category_name'] = final_data['category_name'].replace( 12 , \"Electronic Accessories | Headphones\") \n",
    "final_data['category_name'] = final_data['category_name'].replace( 121 , \"Electronic Accessories | Headphones | Headphone Accessories\") \n",
    "final_data['category_name'] = final_data['category_name'].replace( 13 , \"Electronic Accessories | Tablet Accessories\") \n",
    "final_data['category_name'] = final_data['category_name'].replace( 14 , \"Electronic Accessories | Chargers and Adapters\") \n",
    "final_data['category_name'] = final_data['category_name'].replace( 15 , \"Electronic Accessories | Batteries\") \n",
    "final_data['category_name'] = final_data['category_name'].replace( 151 , \"Electronic Accessories | Batteries | Camera Batteries\") \n",
    "final_data['category_name'] = final_data['category_name'].replace( 16 , \"Electronic Accessories | Cables\") \n",
    "final_data['category_name'] = final_data['category_name'].replace( 161 , \"Electronic Accessories | Cables | HDMI Cables\") \n",
    "final_data['category_name'] = final_data['category_name'].replace( 17 , \"Electronic Accessories | Screen Protectors\") \n",
    "final_data['category_name'] = final_data['category_name'].replace( 18 , \"Electronic Accessories | Camera Accessories\") \n",
    "final_data['category_name'] = final_data['category_name'].replace( 181 , \"Electronic Accessories | Camera Accessories | Camera Filters and Lenses\") \n",
    "final_data['category_name'] = final_data['category_name'].replace( 19 , \"Electronic Accessories | Laptop Accessories\") \n",
    "final_data['category_name'] = final_data['category_name'].replace( 191 , \"Electronic Accessories | Laptop Accessories | Laptop Bags and Backpacks\") \n",
    "final_data['category_name'] = final_data['category_name'].replace( 192 , \"Electronic Accessories | Laptop Accessories | Laptop Sleeves\") \n",
    "final_data['category_name'] = final_data['category_name'].replace( 2 , \"Electronic Accessories | Memory Cards\") \n",
    "final_data['category_name'] = final_data['category_name'].replace( 3 , \"Electronic Accessories | Keyboards\") \n",
    "final_data['category_name'] = final_data['category_name'].replace( 31 , \"Electronic Accessories | Keyboards | Keyboard Accessories\") \n",
    "final_data['category_name'] = final_data['category_name'].replace( 4 , \"Electronic Accessories | Mice\") \n",
    "final_data['category_name'] = final_data['category_name'].replace( 41 , \"Electronic Accessories | Mice | Mouse Pads\") \n",
    "final_data['category_name'] = final_data['category_name'].replace( 5 , \"Electronic Accessories | TV Accessories\") \n",
    "final_data['category_name'] = final_data['category_name'].replace( 6 , \"Electronic Accessories | Power Supplies\") \n",
    "\n"
   ]
  },
  {
   "cell_type": "code",
   "execution_count": 185,
   "metadata": {},
   "outputs": [
    {
     "data": {
      "text/html": [
       "<div>\n",
       "<style scoped>\n",
       "    .dataframe tbody tr th:only-of-type {\n",
       "        vertical-align: middle;\n",
       "    }\n",
       "\n",
       "    .dataframe tbody tr th {\n",
       "        vertical-align: top;\n",
       "    }\n",
       "\n",
       "    .dataframe thead th {\n",
       "        text-align: right;\n",
       "    }\n",
       "</style>\n",
       "<table border=\"1\" class=\"dataframe\">\n",
       "  <thead>\n",
       "    <tr style=\"text-align: right;\">\n",
       "      <th></th>\n",
       "      <th>uniq_id</th>\n",
       "      <th>crawl_timestamp</th>\n",
       "      <th>asin</th>\n",
       "      <th>product_url</th>\n",
       "      <th>product_name</th>\n",
       "      <th>image_urls__small</th>\n",
       "      <th>medium</th>\n",
       "      <th>large</th>\n",
       "      <th>browsenode</th>\n",
       "      <th>seller_name</th>\n",
       "      <th>...</th>\n",
       "      <th>sales_rank_in_child_category</th>\n",
       "      <th>product_details__k_v_pairs</th>\n",
       "      <th>Number_Of_Items</th>\n",
       "      <th>Batteries_Included</th>\n",
       "      <th>Batteries_Required</th>\n",
       "      <th>Material</th>\n",
       "      <th>Form_Factor</th>\n",
       "      <th>left_in_stock</th>\n",
       "      <th>category_label</th>\n",
       "      <th>category_name</th>\n",
       "    </tr>\n",
       "  </thead>\n",
       "  <tbody>\n",
       "    <tr>\n",
       "      <th>0</th>\n",
       "      <td>8258a459bf720ac86b8bc2d214346c35</td>\n",
       "      <td>2020-02-06 19:30:06 +0000</td>\n",
       "      <td>B07652FT69</td>\n",
       "      <td>https://www.amazon.in/Cazcase-Pattern-Smart-Co...</td>\n",
       "      <td>Cazcase Deer Pattern Smart Case Cover Flip Sta...</td>\n",
       "      <td>https://images-na.ssl-images-amazon.com/images...</td>\n",
       "      <td>https://images-na.ssl-images-amazon.com/images...</td>\n",
       "      <td>https://images-na.ssl-images-amazon.com/images...</td>\n",
       "      <td>1375329031</td>\n",
       "      <td>E Shop Solution</td>\n",
       "      <td>...</td>\n",
       "      <td>NaN</td>\n",
       "      <td>NaN</td>\n",
       "      <td>NaN</td>\n",
       "      <td>NaN</td>\n",
       "      <td>NaN</td>\n",
       "      <td>NaN</td>\n",
       "      <td>NaN</td>\n",
       "      <td>NaN</td>\n",
       "      <td>13</td>\n",
       "      <td>Electronic Accessories | Tablet Accessories</td>\n",
       "    </tr>\n",
       "    <tr>\n",
       "      <th>1</th>\n",
       "      <td>8610899e786315b1adad872764f424b0</td>\n",
       "      <td>2020-02-07 00:20:04 +0000</td>\n",
       "      <td>B07TMCY7WN</td>\n",
       "      <td>https://www.amazon.in/D-kandy-Gionee-A1-Lite-M...</td>\n",
       "      <td>D-kandy for Gionee A1 Lite, Fashion Series Lea...</td>\n",
       "      <td>https://images-na.ssl-images-amazon.com/images...</td>\n",
       "      <td>https://images-na.ssl-images-amazon.com/images...</td>\n",
       "      <td>NaN</td>\n",
       "      <td>1389409031</td>\n",
       "      <td>SHIV DURGA ENTERPRISES</td>\n",
       "      <td>...</td>\n",
       "      <td>NaN</td>\n",
       "      <td>NaN</td>\n",
       "      <td>NaN</td>\n",
       "      <td>NaN</td>\n",
       "      <td>NaN</td>\n",
       "      <td>NaN</td>\n",
       "      <td>NaN</td>\n",
       "      <td>NaN</td>\n",
       "      <td>1111</td>\n",
       "      <td>Electronic Accessories | Smartphone Accessorie...</td>\n",
       "    </tr>\n",
       "    <tr>\n",
       "      <th>3</th>\n",
       "      <td>c5499856b11d3a2796bdd362b1701fc1</td>\n",
       "      <td>2020-02-07 02:38:59 +0000</td>\n",
       "      <td>B00JYKGFWY</td>\n",
       "      <td>https://www.amazon.in/iPhone-LUVVITT%C2%AE-Scr...</td>\n",
       "      <td>iPhone 6 Case, LUVVITT® ULTRA ARMOR iPhone 6 C...</td>\n",
       "      <td>https://images-na.ssl-images-amazon.com/images...</td>\n",
       "      <td>https://images-na.ssl-images-amazon.com/images...</td>\n",
       "      <td>https://images-na.ssl-images-amazon.com/images...</td>\n",
       "      <td>1389409031</td>\n",
       "      <td>HelloYehlo</td>\n",
       "      <td>...</td>\n",
       "      <td>NaN</td>\n",
       "      <td>NaN</td>\n",
       "      <td>NaN</td>\n",
       "      <td>NaN</td>\n",
       "      <td>NaN</td>\n",
       "      <td>NaN</td>\n",
       "      <td>NaN</td>\n",
       "      <td>NaN</td>\n",
       "      <td>111</td>\n",
       "      <td>Electronic Accessories | Smartphone Accessorie...</td>\n",
       "    </tr>\n",
       "    <tr>\n",
       "      <th>4</th>\n",
       "      <td>ce5ac9f85505667fb9dafce9c1b0103c</td>\n",
       "      <td>2020-02-07 13:30:48 +0000</td>\n",
       "      <td>B07LB5SGK7</td>\n",
       "      <td>https://www.amazon.in/Redgear-MPR800-Soft-Mous...</td>\n",
       "      <td>Redgear MPR800 Soft Base Mousepad with 4 LED S...</td>\n",
       "      <td>https://images-na.ssl-images-amazon.com/images...</td>\n",
       "      <td>https://images-na.ssl-images-amazon.com/images...</td>\n",
       "      <td>https://images-na.ssl-images-amazon.com/images...</td>\n",
       "      <td>1375413031</td>\n",
       "      <td>Appario Retail Private Ltd</td>\n",
       "      <td>...</td>\n",
       "      <td>NaN</td>\n",
       "      <td>NaN</td>\n",
       "      <td>NaN</td>\n",
       "      <td>NaN</td>\n",
       "      <td>NaN</td>\n",
       "      <td>NaN</td>\n",
       "      <td>NaN</td>\n",
       "      <td>NaN</td>\n",
       "      <td>1</td>\n",
       "      <td>Electronic Accessories</td>\n",
       "    </tr>\n",
       "    <tr>\n",
       "      <th>6</th>\n",
       "      <td>7fff79ed7aacb6b010d870c293a6e0e4</td>\n",
       "      <td>2020-02-07 00:40:57 +0000</td>\n",
       "      <td>B009NSXDHW</td>\n",
       "      <td>https://www.amazon.in/Aimo-Wireless-IPH5PCLP00...</td>\n",
       "      <td>Aimo Wireless IPH5PCLP002 Rubber Essentials Sl...</td>\n",
       "      <td>https://images-na.ssl-images-amazon.com/images...</td>\n",
       "      <td>https://images-na.ssl-images-amazon.com/images...</td>\n",
       "      <td>https://images-na.ssl-images-amazon.com/images...</td>\n",
       "      <td>1389409031</td>\n",
       "      <td>NaN</td>\n",
       "      <td>...</td>\n",
       "      <td>NaN</td>\n",
       "      <td>NaN</td>\n",
       "      <td>NaN</td>\n",
       "      <td>NaN</td>\n",
       "      <td>NaN</td>\n",
       "      <td>NaN</td>\n",
       "      <td>NaN</td>\n",
       "      <td>NaN</td>\n",
       "      <td>111</td>\n",
       "      <td>Electronic Accessories | Smartphone Accessorie...</td>\n",
       "    </tr>\n",
       "  </tbody>\n",
       "</table>\n",
       "<p>5 rows × 38 columns</p>\n",
       "</div>"
      ],
      "text/plain": [
       "                            uniq_id            crawl_timestamp        asin  \\\n",
       "0  8258a459bf720ac86b8bc2d214346c35  2020-02-06 19:30:06 +0000  B07652FT69   \n",
       "1  8610899e786315b1adad872764f424b0  2020-02-07 00:20:04 +0000  B07TMCY7WN   \n",
       "3  c5499856b11d3a2796bdd362b1701fc1  2020-02-07 02:38:59 +0000  B00JYKGFWY   \n",
       "4  ce5ac9f85505667fb9dafce9c1b0103c  2020-02-07 13:30:48 +0000  B07LB5SGK7   \n",
       "6  7fff79ed7aacb6b010d870c293a6e0e4  2020-02-07 00:40:57 +0000  B009NSXDHW   \n",
       "\n",
       "                                         product_url  \\\n",
       "0  https://www.amazon.in/Cazcase-Pattern-Smart-Co...   \n",
       "1  https://www.amazon.in/D-kandy-Gionee-A1-Lite-M...   \n",
       "3  https://www.amazon.in/iPhone-LUVVITT%C2%AE-Scr...   \n",
       "4  https://www.amazon.in/Redgear-MPR800-Soft-Mous...   \n",
       "6  https://www.amazon.in/Aimo-Wireless-IPH5PCLP00...   \n",
       "\n",
       "                                        product_name  \\\n",
       "0  Cazcase Deer Pattern Smart Case Cover Flip Sta...   \n",
       "1  D-kandy for Gionee A1 Lite, Fashion Series Lea...   \n",
       "3  iPhone 6 Case, LUVVITT® ULTRA ARMOR iPhone 6 C...   \n",
       "4  Redgear MPR800 Soft Base Mousepad with 4 LED S...   \n",
       "6  Aimo Wireless IPH5PCLP002 Rubber Essentials Sl...   \n",
       "\n",
       "                                   image_urls__small  \\\n",
       "0  https://images-na.ssl-images-amazon.com/images...   \n",
       "1  https://images-na.ssl-images-amazon.com/images...   \n",
       "3  https://images-na.ssl-images-amazon.com/images...   \n",
       "4  https://images-na.ssl-images-amazon.com/images...   \n",
       "6  https://images-na.ssl-images-amazon.com/images...   \n",
       "\n",
       "                                              medium  \\\n",
       "0  https://images-na.ssl-images-amazon.com/images...   \n",
       "1  https://images-na.ssl-images-amazon.com/images...   \n",
       "3  https://images-na.ssl-images-amazon.com/images...   \n",
       "4  https://images-na.ssl-images-amazon.com/images...   \n",
       "6  https://images-na.ssl-images-amazon.com/images...   \n",
       "\n",
       "                                               large  browsenode  \\\n",
       "0  https://images-na.ssl-images-amazon.com/images...  1375329031   \n",
       "1                                                NaN  1389409031   \n",
       "3  https://images-na.ssl-images-amazon.com/images...  1389409031   \n",
       "4  https://images-na.ssl-images-amazon.com/images...  1375413031   \n",
       "6  https://images-na.ssl-images-amazon.com/images...  1389409031   \n",
       "\n",
       "                  seller_name  ... sales_rank_in_child_category  \\\n",
       "0             E Shop Solution  ...                          NaN   \n",
       "1      SHIV DURGA ENTERPRISES  ...                          NaN   \n",
       "3                  HelloYehlo  ...                          NaN   \n",
       "4  Appario Retail Private Ltd  ...                          NaN   \n",
       "6                         NaN  ...                          NaN   \n",
       "\n",
       "  product_details__k_v_pairs  Number_Of_Items Batteries_Included  \\\n",
       "0                        NaN              NaN                NaN   \n",
       "1                        NaN              NaN                NaN   \n",
       "3                        NaN              NaN                NaN   \n",
       "4                        NaN              NaN                NaN   \n",
       "6                        NaN              NaN                NaN   \n",
       "\n",
       "  Batteries_Required  Material Form_Factor left_in_stock category_label  \\\n",
       "0                NaN       NaN         NaN           NaN             13   \n",
       "1                NaN       NaN         NaN           NaN           1111   \n",
       "3                NaN       NaN         NaN           NaN            111   \n",
       "4                NaN       NaN         NaN           NaN              1   \n",
       "6                NaN       NaN         NaN           NaN            111   \n",
       "\n",
       "                                       category_name  \n",
       "0        Electronic Accessories | Tablet Accessories  \n",
       "1  Electronic Accessories | Smartphone Accessorie...  \n",
       "3  Electronic Accessories | Smartphone Accessorie...  \n",
       "4                             Electronic Accessories  \n",
       "6  Electronic Accessories | Smartphone Accessorie...  \n",
       "\n",
       "[5 rows x 38 columns]"
      ]
     },
     "execution_count": 185,
     "metadata": {},
     "output_type": "execute_result"
    }
   ],
   "source": [
    "final_data.head()"
   ]
  },
  {
   "cell_type": "code",
   "execution_count": 208,
   "metadata": {},
   "outputs": [
    {
     "name": "stdout",
     "output_type": "stream",
     "text": [
      "Shape with duplicates:  (10008, 38)\n",
      "Shape without duplicates:  (10000, 38)\n"
     ]
    }
   ],
   "source": [
    "#check for duplicates and delete\n",
    "print('Shape with duplicates: ', final_data.shape)\n",
    "final_data.drop_duplicates(subset=['uniq_id'], inplace=True)\n",
    "print('Shape without duplicates: ', final_data.shape)"
   ]
  },
  {
   "cell_type": "code",
   "execution_count": 210,
   "metadata": {},
   "outputs": [],
   "source": [
    "#save file with added labels as json\n",
    "json_object = json.dumps([row.dropna().to_dict() for index,row in final_data.iterrows()],indent=4)\n",
    "\n",
    "with open('AmazonElectronics_Labeled.json', 'w') as outfile:\n",
    "    outfile.write(json_object) "
   ]
  },
  {
   "cell_type": "code",
   "execution_count": null,
   "metadata": {},
   "outputs": [],
   "source": []
  }
 ],
 "metadata": {
  "kernelspec": {
   "display_name": "Python 3",
   "language": "python",
   "name": "python3"
  },
  "language_info": {
   "codemirror_mode": {
    "name": "ipython",
    "version": 3
   },
   "file_extension": ".py",
   "mimetype": "text/x-python",
   "name": "python",
   "nbconvert_exporter": "python",
   "pygments_lexer": "ipython3",
   "version": "3.8.5"
  }
 },
 "nbformat": 4,
 "nbformat_minor": 5
}
